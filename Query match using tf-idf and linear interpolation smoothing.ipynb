{
 "cells": [
  {
   "cell_type": "markdown",
   "metadata": {},
   "source": [
    "### Information Retrieval Mid Test"
   ]
  },
  {
   "cell_type": "markdown",
   "metadata": {},
   "source": [
    "### Mesyella/2201793281"
   ]
  },
  {
   "cell_type": "markdown",
   "metadata": {},
   "source": [
    "### Case"
   ]
  },
  {
   "cell_type": "code",
   "execution_count": 1,
   "metadata": {},
   "outputs": [],
   "source": [
    "from Sastrawi.StopWordRemover.StopWordRemoverFactory import StopWordRemoverFactory\n",
    "from Sastrawi.Stemmer.StemmerFactory import StemmerFactory\n",
    "from collections import Counter\n",
    "import pandas as pd\n",
    "import numpy as np\n",
    "import nltk\n",
    "import re\n",
    "\n",
    "\n",
    "data = pd.read_csv('review_data.csv')\n",
    "dataKamar = np.array(data['room'])\n",
    "data = np.array(data['review'])"
   ]
  },
  {
   "cell_type": "markdown",
   "metadata": {},
   "source": [
    "### Preprocessing"
   ]
  },
  {
   "cell_type": "code",
   "execution_count": 2,
   "metadata": {},
   "outputs": [],
   "source": [
    "lower = []\n",
    "for word in data:\n",
    "    new = word.lower()\n",
    "    lower.append(new)"
   ]
  },
  {
   "cell_type": "code",
   "execution_count": 3,
   "metadata": {},
   "outputs": [],
   "source": [
    "factory = StopWordRemoverFactory()\n",
    "stopword = factory.create_stop_word_remover()\n",
    "\n",
    "stop = []\n",
    "for word in lower:\n",
    "    new = stopword.remove(word)\n",
    "    stop.append(new)"
   ]
  },
  {
   "cell_type": "code",
   "execution_count": 4,
   "metadata": {},
   "outputs": [],
   "source": [
    "factory = StemmerFactory()\n",
    "stemmer = factory.create_stemmer()\n",
    "\n",
    "stem = []\n",
    "for word in stop:\n",
    "    new = stemmer.stem(word)\n",
    "    stem.append(new)"
   ]
  },
  {
   "cell_type": "code",
   "execution_count": 5,
   "metadata": {},
   "outputs": [],
   "source": [
    "punc = []\n",
    "for word in stem:\n",
    "    new = re.sub(r'[^\\w\\s]', '', word)\n",
    "    if new != '':\n",
    "        punc.append(new)"
   ]
  },
  {
   "cell_type": "code",
   "execution_count": 6,
   "metadata": {},
   "outputs": [],
   "source": [
    "nonum = []\n",
    "for word in punc:\n",
    "    new = re.sub(r'\\d+', '', word)\n",
    "    if new != '':\n",
    "        nonum.append(new)"
   ]
  },
  {
   "cell_type": "code",
   "execution_count": 7,
   "metadata": {},
   "outputs": [],
   "source": [
    "tokenize = []\n",
    "for i in range(np.array(nonum).shape[0]):\n",
    "    words = nltk.word_tokenize(nonum[i])\n",
    "    tokenize.append(words)"
   ]
  },
  {
   "cell_type": "markdown",
   "metadata": {},
   "source": [
    "### TF-IDF"
   ]
  },
  {
   "cell_type": "code",
   "execution_count": 8,
   "metadata": {},
   "outputs": [],
   "source": [
    "DF = {}\n",
    "N = len(tokenize)\n",
    "for i in range(N):\n",
    "    tokens = tokenize[i]\n",
    "    for w in tokens:\n",
    "        try:\n",
    "            DF[w].add(i)\n",
    "        except:\n",
    "            DF[w] = {i}\n",
    "            \n",
    "for i in DF:\n",
    "    DF[i] = len(DF[i])\n",
    "\n",
    "total_vocab_size = len(DF)"
   ]
  },
  {
   "cell_type": "code",
   "execution_count": 9,
   "metadata": {},
   "outputs": [],
   "source": [
    "def doc_freq(word):\n",
    "    c = 0\n",
    "    try:\n",
    "        c = DF[word]\n",
    "    except:\n",
    "        pass\n",
    "    return c"
   ]
  },
  {
   "cell_type": "code",
   "execution_count": 10,
   "metadata": {},
   "outputs": [],
   "source": [
    "doc = 0\n",
    "tf_idf = {}\n",
    "\n",
    "for i in range(N):\n",
    "    tokens = tokenize[i]\n",
    "    counter = Counter(tokens)\n",
    "    words_count = len(tokens)\n",
    "    for token in np.unique(tokens):\n",
    "        tf = counter[token]/words_count\n",
    "        docF = doc_freq(token)\n",
    "        idf = np.log((N+1)/(docF+1))\n",
    "        tf_idf[doc, token] = tf*idf\n",
    "\n",
    "    doc += 1"
   ]
  },
  {
   "cell_type": "markdown",
   "metadata": {},
   "source": [
    "###  Unigram/Query likelihood language model and linear interpolation smoothing "
   ]
  },
  {
   "cell_type": "code",
   "execution_count": 11,
   "metadata": {},
   "outputs": [],
   "source": [
    "def match(q):\n",
    "    probTemp = []\n",
    "    total = 0\n",
    "    totalAll = 0\n",
    "    probWord = 0\n",
    "    for i in range(len(tokenize)):\n",
    "        c = 0 \n",
    "        for word in tokenize[i]:\n",
    "            totalAll += 1\n",
    "            if(word==q):\n",
    "                c+=1\n",
    "                total+=1\n",
    "        probWord = c / len(tokenize[i])\n",
    "        probTemp.append(probWord)\n",
    "    probAll = total/totalAll\n",
    "    return probTemp, probAll\n",
    "    "
   ]
  },
  {
   "cell_type": "markdown",
   "metadata": {},
   "source": [
    "### Matching with TF-IDF"
   ]
  },
  {
   "cell_type": "code",
   "execution_count": 12,
   "metadata": {},
   "outputs": [],
   "source": [
    "def matching_score(query):\n",
    "    tokens = nltk.word_tokenize(str(query))\n",
    "    query_weights = {}\n",
    "    for key in tf_idf: \n",
    "        if key[1] in tokens:\n",
    "            try:\n",
    "                query_weights[key[0]] += tf_idf[key]\n",
    "            except:\n",
    "                query_weights[key[0]] = tf_idf[key]\n",
    "    query_weights = sorted(query_weights.items(), key=lambda x: x[1], reverse=True)\n",
    "    l = []\n",
    "    \n",
    "    for i in query_weights[:5]:\n",
    "        l.append(i[0])\n",
    "    \n",
    "    return l;"
   ]
  },
  {
   "cell_type": "code",
   "execution_count": 13,
   "metadata": {},
   "outputs": [
    {
     "name": "stdout",
     "output_type": "stream",
     "text": [
      "Top 5 room match with 'kamar sangat nyaman' using tf-idf:\n",
      "room 11 : ac dingin sangat kurang nyaman\n",
      "room 19 : layan manajemen hotel sangat sangat buruk jelek\n",
      "room 18 : tempat bersih nyaman cuman wifi sangat sangat lot banget makasih\n",
      "room 3 : nyaman ac bocor\n",
      "room 13 : kamar mandi sangat bau yg lain bagus nyaman\n"
     ]
    }
   ],
   "source": [
    "print(\"Top 5 room match with 'kamar sangat nyaman' using tf-idf:\")\n",
    "nyaman = matching_score('kamar sangat nyaman')\n",
    "for i in nyaman:\n",
    "    print(\"room\", dataKamar[i],\":\", nonum[i])"
   ]
  },
  {
   "cell_type": "code",
   "execution_count": 14,
   "metadata": {},
   "outputs": [
    {
     "name": "stdout",
     "output_type": "stream",
     "text": [
      "Top 5 room  with 'kamar jorok dan kotor' using tf-idf:\n",
      "room 12 : jorok sekali\n",
      "room 1 : kotor\n",
      "room 3 : kotor\n",
      "room 10 : kamar kotor\n",
      "room 13 : kamar kotor\n"
     ]
    }
   ],
   "source": [
    "print(\"Top 5 room  with 'kamar jorok dan kotor' using tf-idf:\")\n",
    "kotor = matching_score('kamar jorok kotor')\n",
    "for i in kotor:\n",
    "    print(\"room\", dataKamar[i],\":\", nonum[i])"
   ]
  },
  {
   "cell_type": "markdown",
   "metadata": {},
   "source": [
    "### Matching with unigram/query likelihood language model and linear interpolation smoothing "
   ]
  },
  {
   "cell_type": "markdown",
   "metadata": {},
   "source": [
    "#### kamar sangat nyaman"
   ]
  },
  {
   "cell_type": "code",
   "execution_count": 15,
   "metadata": {
    "scrolled": true
   },
   "outputs": [
    {
     "name": "stdout",
     "output_type": "stream",
     "text": [
      "Top 5 room with 'kamar sangat nyaman' using linear interpolation:\n",
      "room 13 : kamar mandi sangat bau yg lain bagus nyaman\n",
      "room 11 : ac dingin sangat kurang nyaman\n",
      "room 12 : kamar mandi kotor layan sangat baik staf ramah sama sekali nyaman\n",
      "room 18 : tempat bersih nyaman cuman wifi sangat sangat lot banget makasih\n",
      "room 9 : lokasi strategis mudah temu kamar nyaman fasilitas wifi sangat kurang jenis makan\n"
     ]
    }
   ],
   "source": [
    "kamar, probKamar = match(\"kamar\")\n",
    "kamar = np.array(kamar)\n",
    "kamar = (0.5*kamar)+((1-0.5)*probKamar)\n",
    "sangat, probSangat = match(\"sangat\")\n",
    "sangat = np.array(sangat)\n",
    "sangat = (0.5*sangat)+((1-0.5)*probSangat)\n",
    "nyaman, probNyaman = match(\"nyaman\")\n",
    "nyaman = np.array(nyaman)\n",
    "nyaman = (0.5*nyaman)+((1-0.5)*probNyaman)\n",
    "total = kamar * sangat * nyaman\n",
    "pr = {}\n",
    "for i in range(len(total)):\n",
    "    pr[i] = total[i]\n",
    "    \n",
    "pr = sorted(pr.items(), key=lambda x: x[1], reverse=True)\n",
    "print(\"Top 5 room with 'kamar sangat nyaman' using linear interpolation:\")\n",
    "for i in pr[:5]:\n",
    "    print(\"room\",dataKamar[i[0]],\":\", nonum[i[0]])"
   ]
  },
  {
   "cell_type": "markdown",
   "metadata": {},
   "source": [
    "#### kamar jorok dan kotor"
   ]
  },
  {
   "cell_type": "code",
   "execution_count": 16,
   "metadata": {},
   "outputs": [
    {
     "name": "stdout",
     "output_type": "stream",
     "text": [
      "Top 5 room  with 'kamar jorok dan kotor' using linear interpolation:\n",
      "room 15 : kotor ada air jorok nyaman\n",
      "room 3 : rekomendasi kamar no  tembok kotor banyak nyamuk wc bau kamar mandi jorok\n",
      "room 18 : datang jam  siang tidak cek in kamar kotor hotel ramai jorok\n",
      "room 14 : kamar sempit bau jorok\n",
      "room 5 : masuk gang nya kotor jorok kamar nya sempit kamar mandi kotor ac nya lama banget dingin nya kecewa ga ygdi tampil foto\n"
     ]
    }
   ],
   "source": [
    "kamar, probKamar = match(\"kamar\")\n",
    "kamar = np.array(kamar)\n",
    "kamar = (0.5*kamar)+((1-0.5)*probKamar)\n",
    "jorok, probJorok = match(\"jorok\")\n",
    "jorok = np.array(jorok)\n",
    "jorok = (0.5*jorok)+((1-0.5)*probJorok)\n",
    "kotor, probKotor = match(\"kotor\")\n",
    "kotor = np.array(kotor)\n",
    "kotor = (0.5*kotor)+((1-0.5)*probKotor)\n",
    "total = kamar * jorok * kotor\n",
    "pr = {}\n",
    "for i in range(len(total)):\n",
    "    pr[i] = total[i]\n",
    "    \n",
    "pr = sorted(pr.items(), key=lambda x: x[1], reverse=True)\n",
    "print(\"Top 5 room  with 'kamar jorok dan kotor' using linear interpolation:\")\n",
    "for i in pr[:5]:\n",
    "    print(\"room\",dataKamar[i[0]],\":\", nonum[i[0]])"
   ]
  },
  {
   "cell_type": "markdown",
   "metadata": {},
   "source": [
    "From the results, when we compare, the tf-idf query and linear interpolation smoothing results show different rooms for top 5 room with given query. This is cause by the different calculation between TF-IDF and Unigram Linear Interpolation smoothing. TF-IDF result doesn't have smoothing that's why they use sum of the value. Linear Interpolation Smoothing use multiplication of the unigram probability value. If I have too choose I will use linear interpolation smoothing which shows better results for the matching."
   ]
  },
  {
   "cell_type": "markdown",
   "metadata": {},
   "source": [
    "### Based on your knowledge, how you can use linear interpolation smoothing approach to extract 5 top keywords for each room?"
   ]
  },
  {
   "cell_type": "markdown",
   "metadata": {},
   "source": [
    "Smoothing is used to decrease the probability of observed outcomes and increase the probability of unobserved outcomes. One of the smoothing approach is called linear interpolation. Linear interpolation helps us to avoid zero-probabilities. It’s important because we want to multiply the probabilities. Linear interpolation uses IDF-like scoring of documents where terms that less frequent in the entire collections have higher contribution to a document’s score. To extract the top 5 keywords from each room we calculate it with the formula:"
   ]
  },
  {
   "attachments": {
    "formula.jpg": {
     "image/jpeg": "[encoded data removed]"
    }
   },
   "cell_type": "markdown",
   "metadata": {},
   "source": [
    "![formula.jpg](attachment:formula.jpg)"
   ]
  },
  {
   "cell_type": "markdown",
   "metadata": {},
   "source": [
    "Then we will get the score for each query in document and compare it with other and show the top 5 keywords."
   ]
  },
  {
   "cell_type": "markdown",
   "metadata": {},
   "source": [
    "### References:"
   ]
  },
  {
   "cell_type": "markdown",
   "metadata": {},
   "source": [
    "https://ils.unc.edu/courses/2013_spring/inls509_001/lectures/07-QueryLikelihoodModel.pdf"
   ]
  },
  {
   "cell_type": "markdown",
   "metadata": {},
   "source": [
    "https://towardsdatascience.com/tf-idf-for-document-ranking-from-scratch-in-python-on-real-world-dataset-796d339a4089"
   ]
  },
  {
   "cell_type": "markdown",
   "metadata": {},
   "source": [
    "https://medium.com/@ksnugroho/dasar-text-preprocessing-dengan-python-a4fa52608ffe"
   ]
  }
 ],
 "metadata": {
  "kernelspec": {
   "display_name": "Python 3",
   "language": "python",
   "name": "python3"
  },
  "language_info": {
   "codemirror_mode": {
    "name": "ipython",
    "version": 3
   },
   "file_extension": ".py",
   "mimetype": "text/x-python",
   "name": "python",
   "nbconvert_exporter": "python",
   "pygments_lexer": "ipython3",
   "version": "3.6.8"
  }
 },
 "nbformat": 4,
 "nbformat_minor": 4
}
